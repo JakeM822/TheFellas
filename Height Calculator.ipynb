{
 "cells": [
  {
   "cell_type": "code",
   "execution_count": 26,
   "id": "0cf6f618",
   "metadata": {},
   "outputs": [
    {
     "name": "stdout",
     "output_type": "stream",
     "text": [
      "What is your name: Owen\n",
      "Enter your height in inches: 60\n",
      "Owen is 5 ' 0 \" tall\n"
     ]
    }
   ],
   "source": [
    "name = input(\"What is your name: \")\n",
    "inches = (int)(input(\"Enter your height in inches: \"))\n",
    "feet = inches // 12\n",
    "remainder = inches % 12\n",
    "print (name, \"is\", feet, \"'\", remainder, '\" tall' )\n",
    "\n"
   ]
  },
  {
   "cell_type": "code",
   "execution_count": null,
   "id": "655739cd",
   "metadata": {},
   "outputs": [],
   "source": []
  }
 ],
 "metadata": {
  "kernelspec": {
   "display_name": "Python 3 (ipykernel)",
   "language": "python",
   "name": "python3"
  },
  "language_info": {
   "codemirror_mode": {
    "name": "ipython",
    "version": 3
   },
   "file_extension": ".py",
   "mimetype": "text/x-python",
   "name": "python",
   "nbconvert_exporter": "python",
   "pygments_lexer": "ipython3",
   "version": "3.11.1"
  }
 },
 "nbformat": 4,
 "nbformat_minor": 5
}
